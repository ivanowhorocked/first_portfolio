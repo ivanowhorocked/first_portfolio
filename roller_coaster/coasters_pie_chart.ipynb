{
 "cells": [
  {
   "cell_type": "code",
   "execution_count": 3,
   "metadata": {},
   "outputs": [
    {
     "name": "stdout",
     "output_type": "stream",
     "text": [
      "            name material_type seating_type  speed  height  length  \\\n",
      "0       Goudurix         Steel     Sit Down   75.0    37.0   950.0   \n",
      "1  Dream catcher         Steel    Suspended   45.0    25.0   600.0   \n",
      "2     Alucinakis         Steel     Sit Down   30.0     8.0   250.0   \n",
      "3       Anaconda        Wooden     Sit Down   85.0    35.0  1200.0   \n",
      "4         Azteka         Steel     Sit Down   55.0    17.0   500.0   \n",
      "\n",
      "   num_inversions     manufacturer            park            status  \n",
      "0             7.0           Vekoma    Parc Asterix  status.operating  \n",
      "1             0.0           Vekoma   Bobbejaanland  status.operating  \n",
      "2             0.0         Zamperla    Terra Mítica  status.operating  \n",
      "3             0.0  William J. Cobb  Walygator Parc  status.operating  \n",
      "4             0.0           Soquet          Le Pal  status.operating  \n"
     ]
    }
   ],
   "source": [
    "import pandas as pd\n",
    "import numpy as np\n",
    "import matplotlib.pyplot as plt\n",
    "coasters = pd.read_csv('roller_coasters.csv')\n",
    "print(coasters.head())"
   ]
  },
  {
   "cell_type": "code",
   "execution_count": 14,
   "metadata": {},
   "outputs": [
    {
     "data": {
      "image/png": "[encoded data removed]",
      "text/plain": [
       "<Figure size 432x288 with 1 Axes>"
      ]
     },
     "metadata": {},
     "output_type": "display_data"
    }
   ],
   "source": [
    "def status_pie (df):\n",
    "    operating = df[df['status'] == 'status.operating']\n",
    "    closed = df[df['status'] == 'status.closed.definitely']\n",
    "    counts = [len(operating), len(closed)]\n",
    "    plt.pie(counts, autopct='%0.1f%%', labels = ['Operating', 'Closed'])\n",
    "status_pie(coasters)\n",
    "    "
   ]
  }
 ],
 "metadata": {
  "kernelspec": {
   "display_name": "Python 3",
   "language": "python",
   "name": "python3"
  },
  "language_info": {
   "codemirror_mode": {
    "name": "ipython",
    "version": 3
   },
   "file_extension": ".py",
   "mimetype": "text/x-python",
   "name": "python",
   "nbconvert_exporter": "python",
   "pygments_lexer": "ipython3",
   "version": "3.8.3"
  }
 },
 "nbformat": 4,
 "nbformat_minor": 4
}
